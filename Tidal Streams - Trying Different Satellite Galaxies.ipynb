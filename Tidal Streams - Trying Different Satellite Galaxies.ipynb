{
 "cells": [
  {
   "cell_type": "markdown",
   "metadata": {},
   "source": [
    "# Simulating Tidal Streams from GCs Bound Initially to MW Satellites"
   ]
  },
  {
   "cell_type": "code",
   "execution_count": 1,
   "metadata": {},
   "outputs": [
    {
     "name": "stdout",
     "output_type": "stream",
     "text": [
      "gzip was not found on your system! You should solve this issue for astroquery.eso to be at its best!\n",
      "On POSIX system: make sure gzip is installed and in your path!On Windows: same for 7-zip (http://www.7-zip.org)!\n"
     ]
    }
   ],
   "source": [
    "%matplotlib widget\n",
    "import matplotlib.pyplot as plt\n",
    "import numpy \n",
    "from interactive_modelstreams import plot_tidalstreams, zoom, plot_colormap, test_cocoon\n",
    "from clusterorbits import plot_sat_cluster\n",
    "from galpy.orbit import Orbit\n",
    "from galpy.potential import HernquistPotential\n",
    "from astropy import units\n",
    "\n",
    "# Import orbits for Milky Way's satellite galaxies\n",
    "satellite_gal = Orbit.from_name('MWsatellitegalaxies') #list of satellite galaxies of Milky Way \n",
    "name_satellite_gal = satellite_gal.name\n"
   ]
  },
  {
   "cell_type": "code",
   "execution_count": 2,
   "metadata": {
    "scrolled": true
   },
   "outputs": [],
   "source": [
    "xaxis = 't'\n",
    "yaxis = 'r'\n",
    "Msat = 10.**11.*units.Msun\n",
    "size = 1.05*(Msat/(10.**8./1*units.Msun))**0.5*units.kpc\n",
    "potential = HernquistPotential(amp = 2*Msat, a = size, ro = 8., vo=220.)\n",
    "x,y,z = 4*units.kpc, 0*units.kpc, 0*units.kpc\n",
    "vcirc = potential.vcirc(4*units.kpc)\n",
    "vx, vy, vz = 0.*units.km/units.s, vcirc, 0.*units.km/units.s\n",
    "#tform, tsteady = 7.*units.Gyr, 0.5*units.Gyr #timescale for tidal disruption of satellite galaxy\n",
    "Mcluster = 2e4*units.Msun\n",
    "tform_dict= {}\n",
    "index_list = [1,5,8,10,13,26,27,28,29,30,35,37,38,39]\n",
    "tsteady = 0.5*units.Gyr\n",
    "\n"
   ]
  },
  {
   "cell_type": "code",
   "execution_count": null,
   "metadata": {},
   "outputs": [],
   "source": [
    "# Code that takes input for tform of each satellite galaxy being considered\n",
    "for index in index_list:\n",
    "    sat_name = name_satellite_gal[index]\n",
    "    value = input('Insert value (in units of Gyr) for tform of satellite galaxy: '+sat_name)\n",
    "    tform_dict[sat_name] = float(value)*units.Gyr\n"
   ]
  },
  {
   "cell_type": "code",
   "execution_count": null,
   "metadata": {
    "scrolled": true
   },
   "outputs": [],
   "source": [
    "##### Plot cluster orbits for each of the satellite galaxies for a given tform\n",
    "for index in index_list:\n",
    "    sat = satellite_gal[index]\n",
    "    sat_name = name_satellite_gal[index]\n",
    "    tform = tform_dict[sat_name]\n",
    "    end_pos_cluster, end_pos_gal,dswp, cdf = plot_sat_cluster(sat, sat_name, potential, 't', 'r',Msat, size, x,y,z,vx,vy,vz,\n",
    "                                                              tform, tsteady)\n",
    "    #spdf, spdft, cluster_orbit, cluster_orbitb, spdf_bound, spdft_bound, cluster_orbit_bound, cluster_orbitb_bound\\\n",
    "    #  =plot_tidalstreams(sat, name, potential,xaxis, yaxis, Msat, size, x,y,z,vx,vy,vz,tform,tsteady, Mcluster, orbit_time)\n",
    "    \n",
    "    "
   ]
  },
  {
   "cell_type": "code",
   "execution_count": null,
   "metadata": {},
   "outputs": [],
   "source": [
    "# Make list of times at which star cluster becomes unbound in each satellite galaxy\n",
    "unbound_dict = {}\n",
    "for index in index_list:\n",
    "    sat_name = name_satellite_gal[index]\n",
    "    value = input('Insert value (in units of Gyr) for unbound time of satellite galaxy: '+sat_name)\n",
    "    unbound_dict[sat_name] = float(value)*units.Gyr\n",
    "    "
   ]
  },
  {
   "cell_type": "code",
   "execution_count": null,
   "metadata": {
    "scrolled": true
   },
   "outputs": [],
   "source": [
    "'''\n",
    "# Initialize a stream_data numpy array containing all output data from plot_tidalstreams for each satellite galaxy\n",
    "spdf_arr = numpy.array([])\n",
    "spdft_arr = numpy.array([])\n",
    "orbitf_arr = numpy.array([])\n",
    "orbitb_arr = numpy.array([])\n",
    "spdfbound_arr = numpy.array([])\n",
    "spdftbound_arr = numpy.array([])\n",
    "orbitboundf_arr = numpy.array([])\n",
    "orbitboundb_arr = numpy.array([])\n",
    "stream_data = numpy.array([spdf_arr, spdft_arr, orbitf_arr, orbitb_arr, spdfbound_arr, spdftbound_arr,\\\n",
    "                          orbitboundf_arr, orbitboundb_arr]) # stream_data is an array of size: (8, len(index_list)) #8x18 \n",
    "    # 1st row: spdf for 10Gyr disruption, leading = True\n",
    "    # 2nd row: spdft for 10Gyr disruption, leading = False\n",
    "    # 3rd row: orbit of cluster, integrated forward\n",
    "    # 4th row: orbit of cluster, integrated backward\n",
    "    # 5th row: spdf for \"tform\" disruption (disruption for tform Gyr), leading = True\n",
    "    # 6th row: spdf for \"tform\" disruption (disruption for tform Gyr), leading = True\n",
    "    # 7th row: orbit of cluster, integrated forward\n",
    "    # 8th row: orbit of cluster, integrated backwards\n",
    "#!!!!!!! NOTE: appending orbit objects to arrays gives and IndexError, so switching over to list instead\n",
    "'''\n",
    "spdf_arr = []\n",
    "spdft_arr = []\n",
    "orbitf_arr = []\n",
    "orbitb_arr = []\n",
    "spdfbound_arr = []\n",
    "spdftbound_arr = []\n",
    "orbitboundf_arr = []\n",
    "orbitboundb_arr = []\n",
    "stream_data = [spdf_arr, spdft_arr, orbitf_arr, orbitb_arr, spdfbound_arr, spdftbound_arr,\\\n",
    "                          orbitboundf_arr, orbitboundb_arr]\n",
    "\n",
    "# Run function to plot tidalstreams\n",
    "for counter, index in enumerate(index_list):\n",
    "    sat = satellite_gal[index]\n",
    "    sat_name = name_satellite_gal[index]\n",
    "    tform = tform_dict[sat_name]\n",
    "    unboundt = unbound_dict[sat_name]\n",
    "    #end_pos_cluster, end_pos_gal,dswp_f, dswp_b = plot_sat_cluster(sat, name, potential, 't', 'r',Msat, size, x,y,z,vx,vy,vz, tform, tsteady)\n",
    "    spdf, spdft, cluster_orbit, cluster_orbitb, spdf_bound, spdft_bound, cluster_orbit_bound, cluster_orbitb_bound\\\n",
    "    =plot_tidalstreams(sat, sat_name, potential,xaxis, yaxis, Msat, size, x,y,z,vx,vy,vz,tform,tsteady, Mcluster, unbound_time = unboundt)\n",
    "    '''\n",
    "    stream_data[0] = numpy.append(stream_data[0], spdf)\n",
    "    stream_data[1] = numpy.append(stream_data[1], spdft)\n",
    "    stream_data[2] = numpy.append(stream_data[2], cluster_orbit)\n",
    "    stream_data[3] = numpy.append(stream_data[3], cluster_orbitb)\n",
    "    stream_data[4] = numpy.append(stream_data[4], spdf_bound)\n",
    "    stream_data[5] = numpy.append(stream_data[5], spdft_bound)\n",
    "    stream_data[6] = numpy.append(stream_data[6], cluster_orbit_bound)\n",
    "    stream_data[7] = numpy.append(stream_data[7], cluster_orbitb_bound)\n",
    "    '''\n",
    "    stream_data[0].append(spdf)\n",
    "    stream_data[1].append(spdft)\n",
    "    stream_data[2].append(cluster_orbit)\n",
    "    stream_data[3].append(cluster_orbitb)\n",
    "    stream_data[4].append(spdf_bound)\n",
    "    stream_data[5].append(spdft_bound)\n",
    "    stream_data[6].append(cluster_orbit_bound)\n",
    "    stream_data[7].append(cluster_orbitb_bound)\n"
   ]
  },
  {
   "cell_type": "code",
   "execution_count": 3,
   "metadata": {},
   "outputs": [
    {
     "name": "stdout",
     "output_type": "stream",
     "text": [
      "galpyWarning: Cannot use symplectic integration because some of the included forces are dissipative (using non-symplectic integrator dopr54_c instead)\n"
     ]
    },
    {
     "data": {
      "application/vnd.jupyter.widget-view+json": {
       "model_id": "2925838fe30a4b66841fb1101e3f78aa",
       "version_major": 2,
       "version_minor": 0
      },
      "text/plain": [
       "Canvas(toolbar=Toolbar(toolitems=[('Home', 'Reset original view', 'home', 'home'), ('Back', 'Back to previous …"
      ]
     },
     "metadata": {},
     "output_type": "display_data"
    },
    {
     "name": "stdout",
     "output_type": "stream",
     "text": [
      "galpyWarning: Cannot use symplectic integration because some of the included forces are dissipative (using non-symplectic integrator dopr54_c instead)\n"
     ]
    },
    {
     "data": {
      "application/vnd.jupyter.widget-view+json": {
       "model_id": "f2e3b6d84aeb4363b72bf8106024bce4",
       "version_major": 2,
       "version_minor": 0
      },
      "text/plain": [
       "Canvas(toolbar=Toolbar(toolitems=[('Home', 'Reset original view', 'home', 'home'), ('Back', 'Back to previous …"
      ]
     },
     "metadata": {},
     "output_type": "display_data"
    },
    {
     "name": "stdout",
     "output_type": "stream",
     "text": [
      "galpyWarning: Cannot use symplectic integration because some of the included forces are dissipative (using non-symplectic integrator dopr54_c instead)\n"
     ]
    },
    {
     "data": {
      "application/vnd.jupyter.widget-view+json": {
       "model_id": "103556be57474d458513d5f7a5c14daf",
       "version_major": 2,
       "version_minor": 0
      },
      "text/plain": [
       "Canvas(toolbar=Toolbar(toolitems=[('Home', 'Reset original view', 'home', 'home'), ('Back', 'Back to previous …"
      ]
     },
     "metadata": {},
     "output_type": "display_data"
    },
    {
     "name": "stdout",
     "output_type": "stream",
     "text": [
      "galpyWarning: Cannot use symplectic integration because some of the included forces are dissipative (using non-symplectic integrator dopr54_c instead)\n"
     ]
    },
    {
     "data": {
      "application/vnd.jupyter.widget-view+json": {
       "model_id": "65d41058f7cf458f9dd352390a71b892",
       "version_major": 2,
       "version_minor": 0
      },
      "text/plain": [
       "Canvas(toolbar=Toolbar(toolitems=[('Home', 'Reset original view', 'home', 'home'), ('Back', 'Back to previous …"
      ]
     },
     "metadata": {},
     "output_type": "display_data"
    },
    {
     "name": "stdout",
     "output_type": "stream",
     "text": [
      "galpyWarning: Cannot use symplectic integration because some of the included forces are dissipative (using non-symplectic integrator dopr54_c instead)\n"
     ]
    },
    {
     "data": {
      "application/vnd.jupyter.widget-view+json": {
       "model_id": "9de0d3c8f86940a5bf8e14daf68fbdb3",
       "version_major": 2,
       "version_minor": 0
      },
      "text/plain": [
       "Canvas(toolbar=Toolbar(toolitems=[('Home', 'Reset original view', 'home', 'home'), ('Back', 'Back to previous …"
      ]
     },
     "metadata": {},
     "output_type": "display_data"
    },
    {
     "name": "stdout",
     "output_type": "stream",
     "text": [
      "galpyWarning: Cannot use symplectic integration because some of the included forces are dissipative (using non-symplectic integrator dopr54_c instead)\n"
     ]
    },
    {
     "data": {
      "application/vnd.jupyter.widget-view+json": {
       "model_id": "3aac72834e26400a9461d4d98bff45c1",
       "version_major": 2,
       "version_minor": 0
      },
      "text/plain": [
       "Canvas(toolbar=Toolbar(toolitems=[('Home', 'Reset original view', 'home', 'home'), ('Back', 'Back to previous …"
      ]
     },
     "metadata": {},
     "output_type": "display_data"
    },
    {
     "name": "stdout",
     "output_type": "stream",
     "text": [
      "galpyWarning: Cannot use symplectic integration because some of the included forces are dissipative (using non-symplectic integrator dopr54_c instead)\n"
     ]
    },
    {
     "data": {
      "application/vnd.jupyter.widget-view+json": {
       "model_id": "d7a64336647f4e38bce74b43d2fc46d4",
       "version_major": 2,
       "version_minor": 0
      },
      "text/plain": [
       "Canvas(toolbar=Toolbar(toolitems=[('Home', 'Reset original view', 'home', 'home'), ('Back', 'Back to previous …"
      ]
     },
     "metadata": {},
     "output_type": "display_data"
    },
    {
     "name": "stdout",
     "output_type": "stream",
     "text": [
      "galpyWarning: Cannot use symplectic integration because some of the included forces are dissipative (using non-symplectic integrator dopr54_c instead)\n"
     ]
    },
    {
     "data": {
      "application/vnd.jupyter.widget-view+json": {
       "model_id": "b2ba55928efd403faa2bffa118d272d9",
       "version_major": 2,
       "version_minor": 0
      },
      "text/plain": [
       "Canvas(toolbar=Toolbar(toolitems=[('Home', 'Reset original view', 'home', 'home'), ('Back', 'Back to previous …"
      ]
     },
     "metadata": {},
     "output_type": "display_data"
    },
    {
     "name": "stdout",
     "output_type": "stream",
     "text": [
      "galpyWarning: Cannot use symplectic integration because some of the included forces are dissipative (using non-symplectic integrator dopr54_c instead)\n"
     ]
    },
    {
     "data": {
      "application/vnd.jupyter.widget-view+json": {
       "model_id": "edfbbbadc483427ab53d9c267f5b0aac",
       "version_major": 2,
       "version_minor": 0
      },
      "text/plain": [
       "Canvas(toolbar=Toolbar(toolitems=[('Home', 'Reset original view', 'home', 'home'), ('Back', 'Back to previous …"
      ]
     },
     "metadata": {},
     "output_type": "display_data"
    },
    {
     "name": "stdout",
     "output_type": "stream",
     "text": [
      "galpyWarning: Cannot use symplectic integration because some of the included forces are dissipative (using non-symplectic integrator dopr54_c instead)\n"
     ]
    },
    {
     "data": {
      "application/vnd.jupyter.widget-view+json": {
       "model_id": "ba36b397252e45768c93f951ec9e8b97",
       "version_major": 2,
       "version_minor": 0
      },
      "text/plain": [
       "Canvas(toolbar=Toolbar(toolitems=[('Home', 'Reset original view', 'home', 'home'), ('Back', 'Back to previous …"
      ]
     },
     "metadata": {},
     "output_type": "display_data"
    },
    {
     "name": "stdout",
     "output_type": "stream",
     "text": [
      "galpyWarning: Cannot use symplectic integration because some of the included forces are dissipative (using non-symplectic integrator dopr54_c instead)\n"
     ]
    },
    {
     "data": {
      "application/vnd.jupyter.widget-view+json": {
       "model_id": "c20c7a7f271a4f67aaf1aa81d2ce41d5",
       "version_major": 2,
       "version_minor": 0
      },
      "text/plain": [
       "Canvas(toolbar=Toolbar(toolitems=[('Home', 'Reset original view', 'home', 'home'), ('Back', 'Back to previous …"
      ]
     },
     "metadata": {},
     "output_type": "display_data"
    },
    {
     "name": "stdout",
     "output_type": "stream",
     "text": [
      "galpyWarning: Cannot use symplectic integration because some of the included forces are dissipative (using non-symplectic integrator dopr54_c instead)\n"
     ]
    },
    {
     "data": {
      "application/vnd.jupyter.widget-view+json": {
       "model_id": "fa92170758254119b1bcea81ab439e1a",
       "version_major": 2,
       "version_minor": 0
      },
      "text/plain": [
       "Canvas(toolbar=Toolbar(toolitems=[('Home', 'Reset original view', 'home', 'home'), ('Back', 'Back to previous …"
      ]
     },
     "metadata": {},
     "output_type": "display_data"
    },
    {
     "name": "stdout",
     "output_type": "stream",
     "text": [
      "galpyWarning: Cannot use symplectic integration because some of the included forces are dissipative (using non-symplectic integrator dopr54_c instead)\n"
     ]
    },
    {
     "data": {
      "application/vnd.jupyter.widget-view+json": {
       "model_id": "68291fdca36049e4ab971b5318bd187d",
       "version_major": 2,
       "version_minor": 0
      },
      "text/plain": [
       "Canvas(toolbar=Toolbar(toolitems=[('Home', 'Reset original view', 'home', 'home'), ('Back', 'Back to previous …"
      ]
     },
     "metadata": {},
     "output_type": "display_data"
    },
    {
     "name": "stdout",
     "output_type": "stream",
     "text": [
      "galpyWarning: Cannot use symplectic integration because some of the included forces are dissipative (using non-symplectic integrator dopr54_c instead)\n"
     ]
    },
    {
     "data": {
      "application/vnd.jupyter.widget-view+json": {
       "model_id": "7cde5ca7fdb14bf78b05e74089b0eacd",
       "version_major": 2,
       "version_minor": 0
      },
      "text/plain": [
       "Canvas(toolbar=Toolbar(toolitems=[('Home', 'Reset original view', 'home', 'home'), ('Back', 'Back to previous …"
      ]
     },
     "metadata": {},
     "output_type": "display_data"
    },
    {
     "name": "stdout",
     "output_type": "stream",
     "text": [
      "galpyWarning: Cannot use symplectic integration because some of the included forces are dissipative (using non-symplectic integrator dopr54_c instead)\n"
     ]
    },
    {
     "data": {
      "application/vnd.jupyter.widget-view+json": {
       "model_id": "1ec18d59758d4346b48234b97e96f3f2",
       "version_major": 2,
       "version_minor": 0
      },
      "text/plain": [
       "Canvas(toolbar=Toolbar(toolitems=[('Home', 'Reset original view', 'home', 'home'), ('Back', 'Back to previous …"
      ]
     },
     "metadata": {},
     "output_type": "display_data"
    },
    {
     "name": "stdout",
     "output_type": "stream",
     "text": [
      "galpyWarning: Cannot use symplectic integration because some of the included forces are dissipative (using non-symplectic integrator dopr54_c instead)\n"
     ]
    },
    {
     "data": {
      "application/vnd.jupyter.widget-view+json": {
       "model_id": "a86613536a9345288bfe77b4aa9b8755",
       "version_major": 2,
       "version_minor": 0
      },
      "text/plain": [
       "Canvas(toolbar=Toolbar(toolitems=[('Home', 'Reset original view', 'home', 'home'), ('Back', 'Back to previous …"
      ]
     },
     "metadata": {},
     "output_type": "display_data"
    },
    {
     "name": "stdout",
     "output_type": "stream",
     "text": [
      "galpyWarning: Cannot use symplectic integration because some of the included forces are dissipative (using non-symplectic integrator dopr54_c instead)\n"
     ]
    },
    {
     "data": {
      "application/vnd.jupyter.widget-view+json": {
       "model_id": "dbd563445ccc4881a34c87cbf129d949",
       "version_major": 2,
       "version_minor": 0
      },
      "text/plain": [
       "Canvas(toolbar=Toolbar(toolitems=[('Home', 'Reset original view', 'home', 'home'), ('Back', 'Back to previous …"
      ]
     },
     "metadata": {},
     "output_type": "display_data"
    },
    {
     "name": "stdout",
     "output_type": "stream",
     "text": [
      "galpyWarning: Cannot use symplectic integration because some of the included forces are dissipative (using non-symplectic integrator dopr54_c instead)\n"
     ]
    },
    {
     "data": {
      "application/vnd.jupyter.widget-view+json": {
       "model_id": "9324de3e2f134fe5a43eb10271cf2ce4",
       "version_major": 2,
       "version_minor": 0
      },
      "text/plain": [
       "Canvas(toolbar=Toolbar(toolitems=[('Home', 'Reset original view', 'home', 'home'), ('Back', 'Back to previous …"
      ]
     },
     "metadata": {},
     "output_type": "display_data"
    },
    {
     "name": "stdout",
     "output_type": "stream",
     "text": [
      "galpyWarning: Cannot use symplectic integration because some of the included forces are dissipative (using non-symplectic integrator dopr54_c instead)\n"
     ]
    },
    {
     "data": {
      "application/vnd.jupyter.widget-view+json": {
       "model_id": "b1d0dbc737c14f1cac84b387b20772db",
       "version_major": 2,
       "version_minor": 0
      },
      "text/plain": [
       "Canvas(toolbar=Toolbar(toolitems=[('Home', 'Reset original view', 'home', 'home'), ('Back', 'Back to previous …"
      ]
     },
     "metadata": {},
     "output_type": "display_data"
    },
    {
     "name": "stdout",
     "output_type": "stream",
     "text": [
      "galpyWarning: Cannot use symplectic integration because some of the included forces are dissipative (using non-symplectic integrator dopr54_c instead)\n"
     ]
    },
    {
     "data": {
      "application/vnd.jupyter.widget-view+json": {
       "model_id": "bacc8e76085e4ecb9d485f3f499035b0",
       "version_major": 2,
       "version_minor": 0
      },
      "text/plain": [
       "Canvas(toolbar=Toolbar(toolitems=[('Home', 'Reset original view', 'home', 'home'), ('Back', 'Back to previous …"
      ]
     },
     "metadata": {},
     "output_type": "display_data"
    },
    {
     "name": "stdout",
     "output_type": "stream",
     "text": [
      "galpyWarning: Cannot use symplectic integration because some of the included forces are dissipative (using non-symplectic integrator dopr54_c instead)\n",
      "C:\\Users\\yumna\\miniconda3\\lib\\site-packages\\galpy\\util\\bovy_plot.py:284: RuntimeWarning: More than 20 figures have been opened. Figures created through the pyplot interface (`matplotlib.pyplot.figure`) are retained until explicitly closed and may consume too much memory. (To control this warning, see the rcParam `figure.max_open_warning`).\n",
      "  elif not overplot and not gcf: pyplot.figure()\n",
      "\n"
     ]
    },
    {
     "data": {
      "application/vnd.jupyter.widget-view+json": {
       "model_id": "bf3c195991ce4564acf3b17e508df2ff",
       "version_major": 2,
       "version_minor": 0
      },
      "text/plain": [
       "Canvas(toolbar=Toolbar(toolitems=[('Home', 'Reset original view', 'home', 'home'), ('Back', 'Back to previous …"
      ]
     },
     "metadata": {},
     "output_type": "display_data"
    },
    {
     "name": "stdout",
     "output_type": "stream",
     "text": [
      "galpyWarning: Cannot use symplectic integration because some of the included forces are dissipative (using non-symplectic integrator dopr54_c instead)\n",
      "C:\\Users\\yumna\\miniconda3\\lib\\site-packages\\galpy\\util\\bovy_plot.py:284: RuntimeWarning: More than 20 figures have been opened. Figures created through the pyplot interface (`matplotlib.pyplot.figure`) are retained until explicitly closed and may consume too much memory. (To control this warning, see the rcParam `figure.max_open_warning`).\n",
      "  elif not overplot and not gcf: pyplot.figure()\n",
      "\n"
     ]
    },
    {
     "data": {
      "application/vnd.jupyter.widget-view+json": {
       "model_id": "48beaf5f33c24a62bcba43d9cbf8a491",
       "version_major": 2,
       "version_minor": 0
      },
      "text/plain": [
       "Canvas(toolbar=Toolbar(toolitems=[('Home', 'Reset original view', 'home', 'home'), ('Back', 'Back to previous …"
      ]
     },
     "metadata": {},
     "output_type": "display_data"
    },
    {
     "name": "stdout",
     "output_type": "stream",
     "text": [
      "galpyWarning: Cannot use symplectic integration because some of the included forces are dissipative (using non-symplectic integrator dopr54_c instead)\n",
      "C:\\Users\\yumna\\miniconda3\\lib\\site-packages\\galpy\\util\\bovy_plot.py:284: RuntimeWarning: More than 20 figures have been opened. Figures created through the pyplot interface (`matplotlib.pyplot.figure`) are retained until explicitly closed and may consume too much memory. (To control this warning, see the rcParam `figure.max_open_warning`).\n",
      "  elif not overplot and not gcf: pyplot.figure()\n",
      "\n"
     ]
    },
    {
     "data": {
      "application/vnd.jupyter.widget-view+json": {
       "model_id": "3203a7348236428090411da8728909d8",
       "version_major": 2,
       "version_minor": 0
      },
      "text/plain": [
       "Canvas(toolbar=Toolbar(toolitems=[('Home', 'Reset original view', 'home', 'home'), ('Back', 'Back to previous …"
      ]
     },
     "metadata": {},
     "output_type": "display_data"
    },
    {
     "name": "stdout",
     "output_type": "stream",
     "text": [
      "galpyWarning: Cannot use symplectic integration because some of the included forces are dissipative (using non-symplectic integrator dopr54_c instead)\n",
      "C:\\Users\\yumna\\miniconda3\\lib\\site-packages\\galpy\\util\\bovy_plot.py:284: RuntimeWarning: More than 20 figures have been opened. Figures created through the pyplot interface (`matplotlib.pyplot.figure`) are retained until explicitly closed and may consume too much memory. (To control this warning, see the rcParam `figure.max_open_warning`).\n",
      "  elif not overplot and not gcf: pyplot.figure()\n",
      "\n"
     ]
    },
    {
     "data": {
      "application/vnd.jupyter.widget-view+json": {
       "model_id": "0f5ba6b9de124a6bb3a7301890c3ad66",
       "version_major": 2,
       "version_minor": 0
      },
      "text/plain": [
       "Canvas(toolbar=Toolbar(toolitems=[('Home', 'Reset original view', 'home', 'home'), ('Back', 'Back to previous …"
      ]
     },
     "metadata": {},
     "output_type": "display_data"
    },
    {
     "name": "stdout",
     "output_type": "stream",
     "text": [
      "galpyWarning: Cannot use symplectic integration because some of the included forces are dissipative (using non-symplectic integrator dopr54_c instead)\n",
      "C:\\Users\\yumna\\miniconda3\\lib\\site-packages\\galpy\\util\\bovy_plot.py:284: RuntimeWarning: More than 20 figures have been opened. Figures created through the pyplot interface (`matplotlib.pyplot.figure`) are retained until explicitly closed and may consume too much memory. (To control this warning, see the rcParam `figure.max_open_warning`).\n",
      "  elif not overplot and not gcf: pyplot.figure()\n",
      "\n"
     ]
    },
    {
     "data": {
      "application/vnd.jupyter.widget-view+json": {
       "model_id": "50c18c163d7448fd9c25d2dea97a4be5",
       "version_major": 2,
       "version_minor": 0
      },
      "text/plain": [
       "Canvas(toolbar=Toolbar(toolitems=[('Home', 'Reset original view', 'home', 'home'), ('Back', 'Back to previous …"
      ]
     },
     "metadata": {},
     "output_type": "display_data"
    },
    {
     "name": "stdout",
     "output_type": "stream",
     "text": [
      "galpyWarning: Cannot use symplectic integration because some of the included forces are dissipative (using non-symplectic integrator dopr54_c instead)\n",
      "C:\\Users\\yumna\\miniconda3\\lib\\site-packages\\galpy\\util\\bovy_plot.py:284: RuntimeWarning: More than 20 figures have been opened. Figures created through the pyplot interface (`matplotlib.pyplot.figure`) are retained until explicitly closed and may consume too much memory. (To control this warning, see the rcParam `figure.max_open_warning`).\n",
      "  elif not overplot and not gcf: pyplot.figure()\n",
      "\n"
     ]
    },
    {
     "data": {
      "application/vnd.jupyter.widget-view+json": {
       "model_id": "e478f52f989549bf9204d97939be9421",
       "version_major": 2,
       "version_minor": 0
      },
      "text/plain": [
       "Canvas(toolbar=Toolbar(toolitems=[('Home', 'Reset original view', 'home', 'home'), ('Back', 'Back to previous …"
      ]
     },
     "metadata": {},
     "output_type": "display_data"
    },
    {
     "name": "stdout",
     "output_type": "stream",
     "text": [
      "galpyWarning: Cannot use symplectic integration because some of the included forces are dissipative (using non-symplectic integrator dopr54_c instead)\n",
      "C:\\Users\\yumna\\miniconda3\\lib\\site-packages\\galpy\\util\\bovy_plot.py:284: RuntimeWarning: More than 20 figures have been opened. Figures created through the pyplot interface (`matplotlib.pyplot.figure`) are retained until explicitly closed and may consume too much memory. (To control this warning, see the rcParam `figure.max_open_warning`).\n",
      "  elif not overplot and not gcf: pyplot.figure()\n",
      "\n"
     ]
    },
    {
     "data": {
      "application/vnd.jupyter.widget-view+json": {
       "model_id": "1430a08557d04500aac5c4d1ce1db397",
       "version_major": 2,
       "version_minor": 0
      },
      "text/plain": [
       "Canvas(toolbar=Toolbar(toolitems=[('Home', 'Reset original view', 'home', 'home'), ('Back', 'Back to previous …"
      ]
     },
     "metadata": {},
     "output_type": "display_data"
    },
    {
     "name": "stdout",
     "output_type": "stream",
     "text": [
      "galpyWarning: Cannot use symplectic integration because some of the included forces are dissipative (using non-symplectic integrator dopr54_c instead)\n",
      "C:\\Users\\yumna\\miniconda3\\lib\\site-packages\\galpy\\util\\bovy_plot.py:284: RuntimeWarning: More than 20 figures have been opened. Figures created through the pyplot interface (`matplotlib.pyplot.figure`) are retained until explicitly closed and may consume too much memory. (To control this warning, see the rcParam `figure.max_open_warning`).\n",
      "  elif not overplot and not gcf: pyplot.figure()\n",
      "\n"
     ]
    },
    {
     "data": {
      "application/vnd.jupyter.widget-view+json": {
       "model_id": "71440f889dca46dfa548a4e9f39f824e",
       "version_major": 2,
       "version_minor": 0
      },
      "text/plain": [
       "Canvas(toolbar=Toolbar(toolitems=[('Home', 'Reset original view', 'home', 'home'), ('Back', 'Back to previous …"
      ]
     },
     "metadata": {},
     "output_type": "display_data"
    },
    {
     "name": "stdout",
     "output_type": "stream",
     "text": [
      "galpyWarning: Cannot use symplectic integration because some of the included forces are dissipative (using non-symplectic integrator dopr54_c instead)\n",
      "C:\\Users\\yumna\\miniconda3\\lib\\site-packages\\galpy\\util\\bovy_plot.py:284: RuntimeWarning: More than 20 figures have been opened. Figures created through the pyplot interface (`matplotlib.pyplot.figure`) are retained until explicitly closed and may consume too much memory. (To control this warning, see the rcParam `figure.max_open_warning`).\n",
      "  elif not overplot and not gcf: pyplot.figure()\n",
      "\n"
     ]
    },
    {
     "data": {
      "application/vnd.jupyter.widget-view+json": {
       "model_id": "e0c30123fe2f44d19499a0cb11094bf4",
       "version_major": 2,
       "version_minor": 0
      },
      "text/plain": [
       "Canvas(toolbar=Toolbar(toolitems=[('Home', 'Reset original view', 'home', 'home'), ('Back', 'Back to previous …"
      ]
     },
     "metadata": {},
     "output_type": "display_data"
    },
    {
     "name": "stdout",
     "output_type": "stream",
     "text": [
      "galpyWarning: Cannot use symplectic integration because some of the included forces are dissipative (using non-symplectic integrator dopr54_c instead)\n",
      "C:\\Users\\yumna\\miniconda3\\lib\\site-packages\\galpy\\util\\bovy_plot.py:284: RuntimeWarning: More than 20 figures have been opened. Figures created through the pyplot interface (`matplotlib.pyplot.figure`) are retained until explicitly closed and may consume too much memory. (To control this warning, see the rcParam `figure.max_open_warning`).\n",
      "  elif not overplot and not gcf: pyplot.figure()\n",
      "\n"
     ]
    },
    {
     "data": {
      "application/vnd.jupyter.widget-view+json": {
       "model_id": "d708a4e486ef426c82b7455756123868",
       "version_major": 2,
       "version_minor": 0
      },
      "text/plain": [
       "Canvas(toolbar=Toolbar(toolitems=[('Home', 'Reset original view', 'home', 'home'), ('Back', 'Back to previous …"
      ]
     },
     "metadata": {},
     "output_type": "display_data"
    },
    {
     "name": "stdout",
     "output_type": "stream",
     "text": [
      "galpyWarning: Cannot use symplectic integration because some of the included forces are dissipative (using non-symplectic integrator dopr54_c instead)\n",
      "C:\\Users\\yumna\\miniconda3\\lib\\site-packages\\galpy\\util\\bovy_plot.py:284: RuntimeWarning: More than 20 figures have been opened. Figures created through the pyplot interface (`matplotlib.pyplot.figure`) are retained until explicitly closed and may consume too much memory. (To control this warning, see the rcParam `figure.max_open_warning`).\n",
      "  elif not overplot and not gcf: pyplot.figure()\n",
      "\n"
     ]
    },
    {
     "data": {
      "application/vnd.jupyter.widget-view+json": {
       "model_id": "79c9f9d93c674650ad8edbd4d19a9d4c",
       "version_major": 2,
       "version_minor": 0
      },
      "text/plain": [
       "Canvas(toolbar=Toolbar(toolitems=[('Home', 'Reset original view', 'home', 'home'), ('Back', 'Back to previous …"
      ]
     },
     "metadata": {},
     "output_type": "display_data"
    },
    {
     "name": "stdout",
     "output_type": "stream",
     "text": [
      "galpyWarning: Cannot use symplectic integration because some of the included forces are dissipative (using non-symplectic integrator dopr54_c instead)\n",
      "C:\\Users\\yumna\\miniconda3\\lib\\site-packages\\galpy\\util\\bovy_plot.py:284: RuntimeWarning: More than 20 figures have been opened. Figures created through the pyplot interface (`matplotlib.pyplot.figure`) are retained until explicitly closed and may consume too much memory. (To control this warning, see the rcParam `figure.max_open_warning`).\n",
      "  elif not overplot and not gcf: pyplot.figure()\n",
      "\n"
     ]
    },
    {
     "data": {
      "application/vnd.jupyter.widget-view+json": {
       "model_id": "c2b07cd3447c43ec81712238942744cb",
       "version_major": 2,
       "version_minor": 0
      },
      "text/plain": [
       "Canvas(toolbar=Toolbar(toolitems=[('Home', 'Reset original view', 'home', 'home'), ('Back', 'Back to previous …"
      ]
     },
     "metadata": {},
     "output_type": "display_data"
    },
    {
     "name": "stdout",
     "output_type": "stream",
     "text": [
      "galpyWarning: Cannot use symplectic integration because some of the included forces are dissipative (using non-symplectic integrator dopr54_c instead)\n",
      "C:\\Users\\yumna\\miniconda3\\lib\\site-packages\\galpy\\util\\bovy_plot.py:284: RuntimeWarning: More than 20 figures have been opened. Figures created through the pyplot interface (`matplotlib.pyplot.figure`) are retained until explicitly closed and may consume too much memory. (To control this warning, see the rcParam `figure.max_open_warning`).\n",
      "  elif not overplot and not gcf: pyplot.figure()\n",
      "\n"
     ]
    },
    {
     "data": {
      "application/vnd.jupyter.widget-view+json": {
       "model_id": "f45e64bb2cd84624b71ae70d9675faac",
       "version_major": 2,
       "version_minor": 0
      },
      "text/plain": [
       "Canvas(toolbar=Toolbar(toolitems=[('Home', 'Reset original view', 'home', 'home'), ('Back', 'Back to previous …"
      ]
     },
     "metadata": {},
     "output_type": "display_data"
    },
    {
     "name": "stdout",
     "output_type": "stream",
     "text": [
      "galpyWarning: Cannot use symplectic integration because some of the included forces are dissipative (using non-symplectic integrator dopr54_c instead)\n",
      "C:\\Users\\yumna\\miniconda3\\lib\\site-packages\\galpy\\util\\bovy_plot.py:284: RuntimeWarning: More than 20 figures have been opened. Figures created through the pyplot interface (`matplotlib.pyplot.figure`) are retained until explicitly closed and may consume too much memory. (To control this warning, see the rcParam `figure.max_open_warning`).\n",
      "  elif not overplot and not gcf: pyplot.figure()\n",
      "\n"
     ]
    },
    {
     "data": {
      "application/vnd.jupyter.widget-view+json": {
       "model_id": "5ed9ef55fc85487b9475f270cce73e18",
       "version_major": 2,
       "version_minor": 0
      },
      "text/plain": [
       "Canvas(toolbar=Toolbar(toolitems=[('Home', 'Reset original view', 'home', 'home'), ('Back', 'Back to previous …"
      ]
     },
     "metadata": {},
     "output_type": "display_data"
    },
    {
     "name": "stdout",
     "output_type": "stream",
     "text": [
      "galpyWarning: Cannot use symplectic integration because some of the included forces are dissipative (using non-symplectic integrator dopr54_c instead)\n",
      "C:\\Users\\yumna\\miniconda3\\lib\\site-packages\\galpy\\util\\bovy_plot.py:284: RuntimeWarning: More than 20 figures have been opened. Figures created through the pyplot interface (`matplotlib.pyplot.figure`) are retained until explicitly closed and may consume too much memory. (To control this warning, see the rcParam `figure.max_open_warning`).\n",
      "  elif not overplot and not gcf: pyplot.figure()\n",
      "\n"
     ]
    },
    {
     "data": {
      "application/vnd.jupyter.widget-view+json": {
       "model_id": "dab0ae1fab504a77a1bf54a58b1e4108",
       "version_major": 2,
       "version_minor": 0
      },
      "text/plain": [
       "Canvas(toolbar=Toolbar(toolitems=[('Home', 'Reset original view', 'home', 'home'), ('Back', 'Back to previous …"
      ]
     },
     "metadata": {},
     "output_type": "display_data"
    },
    {
     "name": "stdout",
     "output_type": "stream",
     "text": [
      "galpyWarning: Cannot use symplectic integration because some of the included forces are dissipative (using non-symplectic integrator dopr54_c instead)\n",
      "C:\\Users\\yumna\\miniconda3\\lib\\site-packages\\galpy\\util\\bovy_plot.py:284: RuntimeWarning: More than 20 figures have been opened. Figures created through the pyplot interface (`matplotlib.pyplot.figure`) are retained until explicitly closed and may consume too much memory. (To control this warning, see the rcParam `figure.max_open_warning`).\n",
      "  elif not overplot and not gcf: pyplot.figure()\n",
      "\n"
     ]
    },
    {
     "data": {
      "application/vnd.jupyter.widget-view+json": {
       "model_id": "77d126d5f65e437f9bca38406bcae7f1",
       "version_major": 2,
       "version_minor": 0
      },
      "text/plain": [
       "Canvas(toolbar=Toolbar(toolitems=[('Home', 'Reset original view', 'home', 'home'), ('Back', 'Back to previous …"
      ]
     },
     "metadata": {},
     "output_type": "display_data"
    },
    {
     "name": "stdout",
     "output_type": "stream",
     "text": [
      "galpyWarning: Cannot use symplectic integration because some of the included forces are dissipative (using non-symplectic integrator dopr54_c instead)\n",
      "C:\\Users\\yumna\\miniconda3\\lib\\site-packages\\galpy\\util\\bovy_plot.py:284: RuntimeWarning: More than 20 figures have been opened. Figures created through the pyplot interface (`matplotlib.pyplot.figure`) are retained until explicitly closed and may consume too much memory. (To control this warning, see the rcParam `figure.max_open_warning`).\n",
      "  elif not overplot and not gcf: pyplot.figure()\n",
      "\n"
     ]
    },
    {
     "data": {
      "application/vnd.jupyter.widget-view+json": {
       "model_id": "2ca4fe287a764406a40939f9c5e0a43c",
       "version_major": 2,
       "version_minor": 0
      },
      "text/plain": [
       "Canvas(toolbar=Toolbar(toolitems=[('Home', 'Reset original view', 'home', 'home'), ('Back', 'Back to previous …"
      ]
     },
     "metadata": {},
     "output_type": "display_data"
    },
    {
     "name": "stdout",
     "output_type": "stream",
     "text": [
      "galpyWarning: Cannot use symplectic integration because some of the included forces are dissipative (using non-symplectic integrator dopr54_c instead)\n",
      "C:\\Users\\yumna\\miniconda3\\lib\\site-packages\\galpy\\util\\bovy_plot.py:284: RuntimeWarning: More than 20 figures have been opened. Figures created through the pyplot interface (`matplotlib.pyplot.figure`) are retained until explicitly closed and may consume too much memory. (To control this warning, see the rcParam `figure.max_open_warning`).\n",
      "  elif not overplot and not gcf: pyplot.figure()\n",
      "\n"
     ]
    },
    {
     "data": {
      "application/vnd.jupyter.widget-view+json": {
       "model_id": "de68386fbf924949a9b430bc811f12f4",
       "version_major": 2,
       "version_minor": 0
      },
      "text/plain": [
       "Canvas(toolbar=Toolbar(toolitems=[('Home', 'Reset original view', 'home', 'home'), ('Back', 'Back to previous …"
      ]
     },
     "metadata": {},
     "output_type": "display_data"
    },
    {
     "name": "stdout",
     "output_type": "stream",
     "text": [
      "galpyWarning: Cannot use symplectic integration because some of the included forces are dissipative (using non-symplectic integrator dopr54_c instead)\n",
      "C:\\Users\\yumna\\miniconda3\\lib\\site-packages\\galpy\\util\\bovy_plot.py:284: RuntimeWarning: More than 20 figures have been opened. Figures created through the pyplot interface (`matplotlib.pyplot.figure`) are retained until explicitly closed and may consume too much memory. (To control this warning, see the rcParam `figure.max_open_warning`).\n",
      "  elif not overplot and not gcf: pyplot.figure()\n",
      "\n"
     ]
    },
    {
     "data": {
      "application/vnd.jupyter.widget-view+json": {
       "model_id": "283bac49de874809ae96b8021e2c6cbe",
       "version_major": 2,
       "version_minor": 0
      },
      "text/plain": [
       "Canvas(toolbar=Toolbar(toolitems=[('Home', 'Reset original view', 'home', 'home'), ('Back', 'Back to previous …"
      ]
     },
     "metadata": {},
     "output_type": "display_data"
    },
    {
     "name": "stdout",
     "output_type": "stream",
     "text": [
      "galpyWarning: Cannot use symplectic integration because some of the included forces are dissipative (using non-symplectic integrator dopr54_c instead)\n",
      "C:\\Users\\yumna\\miniconda3\\lib\\site-packages\\galpy\\util\\bovy_plot.py:284: RuntimeWarning: More than 20 figures have been opened. Figures created through the pyplot interface (`matplotlib.pyplot.figure`) are retained until explicitly closed and may consume too much memory. (To control this warning, see the rcParam `figure.max_open_warning`).\n",
      "  elif not overplot and not gcf: pyplot.figure()\n",
      "\n"
     ]
    },
    {
     "data": {
      "application/vnd.jupyter.widget-view+json": {
       "model_id": "12677423b4ac4a60be37f2d1f17a3c35",
       "version_major": 2,
       "version_minor": 0
      },
      "text/plain": [
       "Canvas(toolbar=Toolbar(toolitems=[('Home', 'Reset original view', 'home', 'home'), ('Back', 'Back to previous …"
      ]
     },
     "metadata": {},
     "output_type": "display_data"
    },
    {
     "name": "stdout",
     "output_type": "stream",
     "text": [
      "galpyWarning: Cannot use symplectic integration because some of the included forces are dissipative (using non-symplectic integrator dopr54_c instead)\n",
      "C:\\Users\\yumna\\miniconda3\\lib\\site-packages\\galpy\\util\\bovy_plot.py:284: RuntimeWarning: More than 20 figures have been opened. Figures created through the pyplot interface (`matplotlib.pyplot.figure`) are retained until explicitly closed and may consume too much memory. (To control this warning, see the rcParam `figure.max_open_warning`).\n",
      "  elif not overplot and not gcf: pyplot.figure()\n",
      "\n"
     ]
    },
    {
     "data": {
      "application/vnd.jupyter.widget-view+json": {
       "model_id": "566852193d2b49beb957fa15c2766181",
       "version_major": 2,
       "version_minor": 0
      },
      "text/plain": [
       "Canvas(toolbar=Toolbar(toolitems=[('Home', 'Reset original view', 'home', 'home'), ('Back', 'Back to previous …"
      ]
     },
     "metadata": {},
     "output_type": "display_data"
    },
    {
     "name": "stdout",
     "output_type": "stream",
     "text": [
      "galpyWarning: Cannot use symplectic integration because some of the included forces are dissipative (using non-symplectic integrator dopr54_c instead)\n",
      "C:\\Users\\yumna\\miniconda3\\lib\\site-packages\\galpy\\util\\bovy_plot.py:284: RuntimeWarning: More than 20 figures have been opened. Figures created through the pyplot interface (`matplotlib.pyplot.figure`) are retained until explicitly closed and may consume too much memory. (To control this warning, see the rcParam `figure.max_open_warning`).\n",
      "  elif not overplot and not gcf: pyplot.figure()\n",
      "\n"
     ]
    },
    {
     "data": {
      "application/vnd.jupyter.widget-view+json": {
       "model_id": "30c8d0392d6e458f8f812ed487f77a28",
       "version_major": 2,
       "version_minor": 0
      },
      "text/plain": [
       "Canvas(toolbar=Toolbar(toolitems=[('Home', 'Reset original view', 'home', 'home'), ('Back', 'Back to previous …"
      ]
     },
     "metadata": {},
     "output_type": "display_data"
    },
    {
     "name": "stdout",
     "output_type": "stream",
     "text": [
      "galpyWarning: Cannot use symplectic integration because some of the included forces are dissipative (using non-symplectic integrator dopr54_c instead)\n",
      "C:\\Users\\yumna\\miniconda3\\lib\\site-packages\\galpy\\util\\bovy_plot.py:284: RuntimeWarning: More than 20 figures have been opened. Figures created through the pyplot interface (`matplotlib.pyplot.figure`) are retained until explicitly closed and may consume too much memory. (To control this warning, see the rcParam `figure.max_open_warning`).\n",
      "  elif not overplot and not gcf: pyplot.figure()\n",
      "\n"
     ]
    },
    {
     "data": {
      "application/vnd.jupyter.widget-view+json": {
       "model_id": "4868a12bbe034fdb902982a18f2d4326",
       "version_major": 2,
       "version_minor": 0
      },
      "text/plain": [
       "Canvas(toolbar=Toolbar(toolitems=[('Home', 'Reset original view', 'home', 'home'), ('Back', 'Back to previous …"
      ]
     },
     "metadata": {},
     "output_type": "display_data"
    },
    {
     "name": "stdout",
     "output_type": "stream",
     "text": [
      "galpyWarning: Cannot use symplectic integration because some of the included forces are dissipative (using non-symplectic integrator dopr54_c instead)\n",
      "C:\\Users\\yumna\\miniconda3\\lib\\site-packages\\galpy\\util\\bovy_plot.py:284: RuntimeWarning: More than 20 figures have been opened. Figures created through the pyplot interface (`matplotlib.pyplot.figure`) are retained until explicitly closed and may consume too much memory. (To control this warning, see the rcParam `figure.max_open_warning`).\n",
      "  elif not overplot and not gcf: pyplot.figure()\n",
      "\n"
     ]
    },
    {
     "data": {
      "application/vnd.jupyter.widget-view+json": {
       "model_id": "5a10e0eadf0648cc9ce052084f06c2d1",
       "version_major": 2,
       "version_minor": 0
      },
      "text/plain": [
       "Canvas(toolbar=Toolbar(toolitems=[('Home', 'Reset original view', 'home', 'home'), ('Back', 'Back to previous …"
      ]
     },
     "metadata": {},
     "output_type": "display_data"
    },
    {
     "name": "stdout",
     "output_type": "stream",
     "text": [
      "galpyWarning: Cannot use symplectic integration because some of the included forces are dissipative (using non-symplectic integrator dopr54_c instead)\n",
      "C:\\Users\\yumna\\miniconda3\\lib\\site-packages\\galpy\\util\\bovy_plot.py:284: RuntimeWarning: More than 20 figures have been opened. Figures created through the pyplot interface (`matplotlib.pyplot.figure`) are retained until explicitly closed and may consume too much memory. (To control this warning, see the rcParam `figure.max_open_warning`).\n",
      "  elif not overplot and not gcf: pyplot.figure()\n",
      "\n"
     ]
    },
    {
     "data": {
      "application/vnd.jupyter.widget-view+json": {
       "model_id": "a2a338d16fcc48cd8d2a845976de6a78",
       "version_major": 2,
       "version_minor": 0
      },
      "text/plain": [
       "Canvas(toolbar=Toolbar(toolitems=[('Home', 'Reset original view', 'home', 'home'), ('Back', 'Back to previous …"
      ]
     },
     "metadata": {},
     "output_type": "display_data"
    },
    {
     "name": "stdout",
     "output_type": "stream",
     "text": [
      "galpyWarning: Cannot use symplectic integration because some of the included forces are dissipative (using non-symplectic integrator dopr54_c instead)\n",
      "C:\\Users\\yumna\\miniconda3\\lib\\site-packages\\galpy\\util\\bovy_plot.py:284: RuntimeWarning: More than 20 figures have been opened. Figures created through the pyplot interface (`matplotlib.pyplot.figure`) are retained until explicitly closed and may consume too much memory. (To control this warning, see the rcParam `figure.max_open_warning`).\n",
      "  elif not overplot and not gcf: pyplot.figure()\n",
      "\n"
     ]
    },
    {
     "data": {
      "application/vnd.jupyter.widget-view+json": {
       "model_id": "31173748ad0a486884995e93dda4eb7d",
       "version_major": 2,
       "version_minor": 0
      },
      "text/plain": [
       "Canvas(toolbar=Toolbar(toolitems=[('Home', 'Reset original view', 'home', 'home'), ('Back', 'Back to previous …"
      ]
     },
     "metadata": {},
     "output_type": "display_data"
    },
    {
     "name": "stdout",
     "output_type": "stream",
     "text": [
      "galpyWarning: Cannot use symplectic integration because some of the included forces are dissipative (using non-symplectic integrator dopr54_c instead)\n",
      "C:\\Users\\yumna\\miniconda3\\lib\\site-packages\\galpy\\util\\bovy_plot.py:284: RuntimeWarning: More than 20 figures have been opened. Figures created through the pyplot interface (`matplotlib.pyplot.figure`) are retained until explicitly closed and may consume too much memory. (To control this warning, see the rcParam `figure.max_open_warning`).\n",
      "  elif not overplot and not gcf: pyplot.figure()\n",
      "\n"
     ]
    },
    {
     "data": {
      "application/vnd.jupyter.widget-view+json": {
       "model_id": "74ce9ad7b8654d36adb3c821fcc1d72a",
       "version_major": 2,
       "version_minor": 0
      },
      "text/plain": [
       "Canvas(toolbar=Toolbar(toolitems=[('Home', 'Reset original view', 'home', 'home'), ('Back', 'Back to previous …"
      ]
     },
     "metadata": {},
     "output_type": "display_data"
    },
    {
     "name": "stdout",
     "output_type": "stream",
     "text": [
      "galpyWarning: Cannot use symplectic integration because some of the included forces are dissipative (using non-symplectic integrator dopr54_c instead)\n",
      "C:\\Users\\yumna\\miniconda3\\lib\\site-packages\\galpy\\util\\bovy_plot.py:284: RuntimeWarning: More than 20 figures have been opened. Figures created through the pyplot interface (`matplotlib.pyplot.figure`) are retained until explicitly closed and may consume too much memory. (To control this warning, see the rcParam `figure.max_open_warning`).\n",
      "  elif not overplot and not gcf: pyplot.figure()\n",
      "\n"
     ]
    },
    {
     "data": {
      "application/vnd.jupyter.widget-view+json": {
       "model_id": "5d512703deee42ee9c8ff0cb9e09d8b4",
       "version_major": 2,
       "version_minor": 0
      },
      "text/plain": [
       "Canvas(toolbar=Toolbar(toolitems=[('Home', 'Reset original view', 'home', 'home'), ('Back', 'Back to previous …"
      ]
     },
     "metadata": {},
     "output_type": "display_data"
    },
    {
     "name": "stdout",
     "output_type": "stream",
     "text": [
      "galpyWarning: Cannot use symplectic integration because some of the included forces are dissipative (using non-symplectic integrator dopr54_c instead)\n",
      "C:\\Users\\yumna\\miniconda3\\lib\\site-packages\\galpy\\util\\bovy_plot.py:284: RuntimeWarning: More than 20 figures have been opened. Figures created through the pyplot interface (`matplotlib.pyplot.figure`) are retained until explicitly closed and may consume too much memory. (To control this warning, see the rcParam `figure.max_open_warning`).\n",
      "  elif not overplot and not gcf: pyplot.figure()\n",
      "\n"
     ]
    },
    {
     "data": {
      "application/vnd.jupyter.widget-view+json": {
       "model_id": "8cfc6f059d264e269d42884f94b30468",
       "version_major": 2,
       "version_minor": 0
      },
      "text/plain": [
       "Canvas(toolbar=Toolbar(toolitems=[('Home', 'Reset original view', 'home', 'home'), ('Back', 'Back to previous …"
      ]
     },
     "metadata": {},
     "output_type": "display_data"
    },
    {
     "name": "stdout",
     "output_type": "stream",
     "text": [
      "galpyWarning: Cannot use symplectic integration because some of the included forces are dissipative (using non-symplectic integrator dopr54_c instead)\n",
      "C:\\Users\\yumna\\miniconda3\\lib\\site-packages\\galpy\\util\\bovy_plot.py:284: RuntimeWarning: More than 20 figures have been opened. Figures created through the pyplot interface (`matplotlib.pyplot.figure`) are retained until explicitly closed and may consume too much memory. (To control this warning, see the rcParam `figure.max_open_warning`).\n",
      "  elif not overplot and not gcf: pyplot.figure()\n",
      "\n"
     ]
    },
    {
     "data": {
      "application/vnd.jupyter.widget-view+json": {
       "model_id": "f5d1d7bf3aca4c3e9c34ea31f2546ce9",
       "version_major": 2,
       "version_minor": 0
      },
      "text/plain": [
       "Canvas(toolbar=Toolbar(toolitems=[('Home', 'Reset original view', 'home', 'home'), ('Back', 'Back to previous …"
      ]
     },
     "metadata": {},
     "output_type": "display_data"
    },
    {
     "name": "stdout",
     "output_type": "stream",
     "text": [
      "galpyWarning: Cannot use symplectic integration because some of the included forces are dissipative (using non-symplectic integrator dopr54_c instead)\n",
      "C:\\Users\\yumna\\miniconda3\\lib\\site-packages\\galpy\\util\\bovy_plot.py:284: RuntimeWarning: More than 20 figures have been opened. Figures created through the pyplot interface (`matplotlib.pyplot.figure`) are retained until explicitly closed and may consume too much memory. (To control this warning, see the rcParam `figure.max_open_warning`).\n",
      "  elif not overplot and not gcf: pyplot.figure()\n",
      "\n"
     ]
    },
    {
     "data": {
      "application/vnd.jupyter.widget-view+json": {
       "model_id": "4393b2f62abf4d3d8ce2e074b38f5b92",
       "version_major": 2,
       "version_minor": 0
      },
      "text/plain": [
       "Canvas(toolbar=Toolbar(toolitems=[('Home', 'Reset original view', 'home', 'home'), ('Back', 'Back to previous …"
      ]
     },
     "metadata": {},
     "output_type": "display_data"
    },
    {
     "name": "stdout",
     "output_type": "stream",
     "text": [
      "galpyWarning: Cannot use symplectic integration because some of the included forces are dissipative (using non-symplectic integrator dopr54_c instead)\n",
      "C:\\Users\\yumna\\miniconda3\\lib\\site-packages\\galpy\\util\\bovy_plot.py:284: RuntimeWarning: More than 20 figures have been opened. Figures created through the pyplot interface (`matplotlib.pyplot.figure`) are retained until explicitly closed and may consume too much memory. (To control this warning, see the rcParam `figure.max_open_warning`).\n",
      "  elif not overplot and not gcf: pyplot.figure()\n",
      "\n"
     ]
    },
    {
     "data": {
      "application/vnd.jupyter.widget-view+json": {
       "model_id": "167b0876b6754bb9b25c297e64daebd7",
       "version_major": 2,
       "version_minor": 0
      },
      "text/plain": [
       "Canvas(toolbar=Toolbar(toolitems=[('Home', 'Reset original view', 'home', 'home'), ('Back', 'Back to previous …"
      ]
     },
     "metadata": {},
     "output_type": "display_data"
    },
    {
     "name": "stdout",
     "output_type": "stream",
     "text": [
      "galpyWarning: Cannot use symplectic integration because some of the included forces are dissipative (using non-symplectic integrator dopr54_c instead)\n",
      "C:\\Users\\yumna\\miniconda3\\lib\\site-packages\\galpy\\util\\bovy_plot.py:284: RuntimeWarning: More than 20 figures have been opened. Figures created through the pyplot interface (`matplotlib.pyplot.figure`) are retained until explicitly closed and may consume too much memory. (To control this warning, see the rcParam `figure.max_open_warning`).\n",
      "  elif not overplot and not gcf: pyplot.figure()\n",
      "\n"
     ]
    },
    {
     "data": {
      "application/vnd.jupyter.widget-view+json": {
       "model_id": "962c252bf5f44d9580ba3eb602643cca",
       "version_major": 2,
       "version_minor": 0
      },
      "text/plain": [
       "Canvas(toolbar=Toolbar(toolitems=[('Home', 'Reset original view', 'home', 'home'), ('Back', 'Back to previous …"
      ]
     },
     "metadata": {},
     "output_type": "display_data"
    },
    {
     "name": "stdout",
     "output_type": "stream",
     "text": [
      "galpyWarning: Cannot use symplectic integration because some of the included forces are dissipative (using non-symplectic integrator dopr54_c instead)\n",
      "C:\\Users\\yumna\\miniconda3\\lib\\site-packages\\galpy\\util\\bovy_plot.py:284: RuntimeWarning: More than 20 figures have been opened. Figures created through the pyplot interface (`matplotlib.pyplot.figure`) are retained until explicitly closed and may consume too much memory. (To control this warning, see the rcParam `figure.max_open_warning`).\n",
      "  elif not overplot and not gcf: pyplot.figure()\n",
      "\n"
     ]
    },
    {
     "data": {
      "application/vnd.jupyter.widget-view+json": {
       "model_id": "dd603fb9d7924c349c3385d307b1d69f",
       "version_major": 2,
       "version_minor": 0
      },
      "text/plain": [
       "Canvas(toolbar=Toolbar(toolitems=[('Home', 'Reset original view', 'home', 'home'), ('Back', 'Back to previous …"
      ]
     },
     "metadata": {},
     "output_type": "display_data"
    },
    {
     "name": "stdout",
     "output_type": "stream",
     "text": [
      "galpyWarning: Cannot use symplectic integration because some of the included forces are dissipative (using non-symplectic integrator dopr54_c instead)\n",
      "C:\\Users\\yumna\\miniconda3\\lib\\site-packages\\galpy\\util\\bovy_plot.py:284: RuntimeWarning: More than 20 figures have been opened. Figures created through the pyplot interface (`matplotlib.pyplot.figure`) are retained until explicitly closed and may consume too much memory. (To control this warning, see the rcParam `figure.max_open_warning`).\n",
      "  elif not overplot and not gcf: pyplot.figure()\n",
      "\n"
     ]
    },
    {
     "data": {
      "application/vnd.jupyter.widget-view+json": {
       "model_id": "258cd26274df433088d907fb8f7d1c9c",
       "version_major": 2,
       "version_minor": 0
      },
      "text/plain": [
       "Canvas(toolbar=Toolbar(toolitems=[('Home', 'Reset original view', 'home', 'home'), ('Back', 'Back to previous …"
      ]
     },
     "metadata": {},
     "output_type": "display_data"
    },
    {
     "name": "stdout",
     "output_type": "stream",
     "text": [
      "galpyWarning: Cannot use symplectic integration because some of the included forces are dissipative (using non-symplectic integrator dopr54_c instead)\n",
      "C:\\Users\\yumna\\miniconda3\\lib\\site-packages\\galpy\\util\\bovy_plot.py:284: RuntimeWarning: More than 20 figures have been opened. Figures created through the pyplot interface (`matplotlib.pyplot.figure`) are retained until explicitly closed and may consume too much memory. (To control this warning, see the rcParam `figure.max_open_warning`).\n",
      "  elif not overplot and not gcf: pyplot.figure()\n",
      "\n"
     ]
    },
    {
     "data": {
      "application/vnd.jupyter.widget-view+json": {
       "model_id": "ca6c7aecc411480080a9c80fb174ed66",
       "version_major": 2,
       "version_minor": 0
      },
      "text/plain": [
       "Canvas(toolbar=Toolbar(toolitems=[('Home', 'Reset original view', 'home', 'home'), ('Back', 'Back to previous …"
      ]
     },
     "metadata": {},
     "output_type": "display_data"
    },
    {
     "name": "stdout",
     "output_type": "stream",
     "text": [
      "galpyWarning: Cannot use symplectic integration because some of the included forces are dissipative (using non-symplectic integrator dopr54_c instead)\n",
      "C:\\Users\\yumna\\miniconda3\\lib\\site-packages\\galpy\\util\\bovy_plot.py:284: RuntimeWarning: More than 20 figures have been opened. Figures created through the pyplot interface (`matplotlib.pyplot.figure`) are retained until explicitly closed and may consume too much memory. (To control this warning, see the rcParam `figure.max_open_warning`).\n",
      "  elif not overplot and not gcf: pyplot.figure()\n",
      "\n"
     ]
    },
    {
     "data": {
      "application/vnd.jupyter.widget-view+json": {
       "model_id": "d7ba1605bcd34eddb47db3092550eeeb",
       "version_major": 2,
       "version_minor": 0
      },
      "text/plain": [
       "Canvas(toolbar=Toolbar(toolitems=[('Home', 'Reset original view', 'home', 'home'), ('Back', 'Back to previous …"
      ]
     },
     "metadata": {},
     "output_type": "display_data"
    },
    {
     "name": "stdout",
     "output_type": "stream",
     "text": [
      "galpyWarning: Cannot use symplectic integration because some of the included forces are dissipative (using non-symplectic integrator dopr54_c instead)\n",
      "C:\\Users\\yumna\\miniconda3\\lib\\site-packages\\galpy\\util\\bovy_plot.py:284: RuntimeWarning: More than 20 figures have been opened. Figures created through the pyplot interface (`matplotlib.pyplot.figure`) are retained until explicitly closed and may consume too much memory. (To control this warning, see the rcParam `figure.max_open_warning`).\n",
      "  elif not overplot and not gcf: pyplot.figure()\n",
      "\n"
     ]
    },
    {
     "data": {
      "application/vnd.jupyter.widget-view+json": {
       "model_id": "1ae843e11f7e4914944b5a5a68405c44",
       "version_major": 2,
       "version_minor": 0
      },
      "text/plain": [
       "Canvas(toolbar=Toolbar(toolitems=[('Home', 'Reset original view', 'home', 'home'), ('Back', 'Back to previous …"
      ]
     },
     "metadata": {},
     "output_type": "display_data"
    },
    {
     "name": "stdout",
     "output_type": "stream",
     "text": [
      "galpyWarning: Cannot use symplectic integration because some of the included forces are dissipative (using non-symplectic integrator dopr54_c instead)\n",
      "C:\\Users\\yumna\\miniconda3\\lib\\site-packages\\galpy\\util\\bovy_plot.py:284: RuntimeWarning: More than 20 figures have been opened. Figures created through the pyplot interface (`matplotlib.pyplot.figure`) are retained until explicitly closed and may consume too much memory. (To control this warning, see the rcParam `figure.max_open_warning`).\n",
      "  elif not overplot and not gcf: pyplot.figure()\n",
      "\n"
     ]
    },
    {
     "data": {
      "application/vnd.jupyter.widget-view+json": {
       "model_id": "cc0a7c63e58f4623886c4bbf2f302c4a",
       "version_major": 2,
       "version_minor": 0
      },
      "text/plain": [
       "Canvas(toolbar=Toolbar(toolitems=[('Home', 'Reset original view', 'home', 'home'), ('Back', 'Back to previous …"
      ]
     },
     "metadata": {},
     "output_type": "display_data"
    },
    {
     "name": "stdout",
     "output_type": "stream",
     "text": [
      "galpyWarning: Cannot use symplectic integration because some of the included forces are dissipative (using non-symplectic integrator dopr54_c instead)\n",
      "C:\\Users\\yumna\\miniconda3\\lib\\site-packages\\galpy\\util\\bovy_plot.py:284: RuntimeWarning: More than 20 figures have been opened. Figures created through the pyplot interface (`matplotlib.pyplot.figure`) are retained until explicitly closed and may consume too much memory. (To control this warning, see the rcParam `figure.max_open_warning`).\n",
      "  elif not overplot and not gcf: pyplot.figure()\n",
      "\n"
     ]
    },
    {
     "data": {
      "application/vnd.jupyter.widget-view+json": {
       "model_id": "3473b39641c34266a93f4f3e59777b94",
       "version_major": 2,
       "version_minor": 0
      },
      "text/plain": [
       "Canvas(toolbar=Toolbar(toolitems=[('Home', 'Reset original view', 'home', 'home'), ('Back', 'Back to previous …"
      ]
     },
     "metadata": {},
     "output_type": "display_data"
    },
    {
     "name": "stdout",
     "output_type": "stream",
     "text": [
      "galpyWarning: Cannot use symplectic integration because some of the included forces are dissipative (using non-symplectic integrator dopr54_c instead)\n",
      "C:\\Users\\yumna\\miniconda3\\lib\\site-packages\\galpy\\util\\bovy_plot.py:284: RuntimeWarning: More than 20 figures have been opened. Figures created through the pyplot interface (`matplotlib.pyplot.figure`) are retained until explicitly closed and may consume too much memory. (To control this warning, see the rcParam `figure.max_open_warning`).\n",
      "  elif not overplot and not gcf: pyplot.figure()\n",
      "\n"
     ]
    },
    {
     "data": {
      "application/vnd.jupyter.widget-view+json": {
       "model_id": "0eec083322a540fea92024f46b9b5e4e",
       "version_major": 2,
       "version_minor": 0
      },
      "text/plain": [
       "Canvas(toolbar=Toolbar(toolitems=[('Home', 'Reset original view', 'home', 'home'), ('Back', 'Back to previous …"
      ]
     },
     "metadata": {},
     "output_type": "display_data"
    },
    {
     "name": "stdout",
     "output_type": "stream",
     "text": [
      "galpyWarning: Cannot use symplectic integration because some of the included forces are dissipative (using non-symplectic integrator dopr54_c instead)\n",
      "C:\\Users\\yumna\\miniconda3\\lib\\site-packages\\galpy\\util\\bovy_plot.py:284: RuntimeWarning: More than 20 figures have been opened. Figures created through the pyplot interface (`matplotlib.pyplot.figure`) are retained until explicitly closed and may consume too much memory. (To control this warning, see the rcParam `figure.max_open_warning`).\n",
      "  elif not overplot and not gcf: pyplot.figure()\n",
      "\n"
     ]
    },
    {
     "data": {
      "application/vnd.jupyter.widget-view+json": {
       "model_id": "3130b65838684cf1aedfb3a6e6dbd625",
       "version_major": 2,
       "version_minor": 0
      },
      "text/plain": [
       "Canvas(toolbar=Toolbar(toolitems=[('Home', 'Reset original view', 'home', 'home'), ('Back', 'Back to previous …"
      ]
     },
     "metadata": {},
     "output_type": "display_data"
    },
    {
     "name": "stdout",
     "output_type": "stream",
     "text": [
      "galpyWarning: Cannot use symplectic integration because some of the included forces are dissipative (using non-symplectic integrator dopr54_c instead)\n",
      "C:\\Users\\yumna\\miniconda3\\lib\\site-packages\\galpy\\util\\bovy_plot.py:284: RuntimeWarning: More than 20 figures have been opened. Figures created through the pyplot interface (`matplotlib.pyplot.figure`) are retained until explicitly closed and may consume too much memory. (To control this warning, see the rcParam `figure.max_open_warning`).\n",
      "  elif not overplot and not gcf: pyplot.figure()\n",
      "\n"
     ]
    },
    {
     "data": {
      "application/vnd.jupyter.widget-view+json": {
       "model_id": "c1ceba0ecef543558d2578a3a50d974e",
       "version_major": 2,
       "version_minor": 0
      },
      "text/plain": [
       "Canvas(toolbar=Toolbar(toolitems=[('Home', 'Reset original view', 'home', 'home'), ('Back', 'Back to previous …"
      ]
     },
     "metadata": {},
     "output_type": "display_data"
    },
    {
     "name": "stdout",
     "output_type": "stream",
     "text": [
      "galpyWarning: Cannot use symplectic integration because some of the included forces are dissipative (using non-symplectic integrator dopr54_c instead)\n",
      "C:\\Users\\yumna\\miniconda3\\lib\\site-packages\\galpy\\util\\bovy_plot.py:284: RuntimeWarning: More than 20 figures have been opened. Figures created through the pyplot interface (`matplotlib.pyplot.figure`) are retained until explicitly closed and may consume too much memory. (To control this warning, see the rcParam `figure.max_open_warning`).\n",
      "  elif not overplot and not gcf: pyplot.figure()\n",
      "\n"
     ]
    },
    {
     "data": {
      "application/vnd.jupyter.widget-view+json": {
       "model_id": "6880e5604a72452cb0dfb76256490453",
       "version_major": 2,
       "version_minor": 0
      },
      "text/plain": [
       "Canvas(toolbar=Toolbar(toolitems=[('Home', 'Reset original view', 'home', 'home'), ('Back', 'Back to previous …"
      ]
     },
     "metadata": {},
     "output_type": "display_data"
    },
    {
     "name": "stdout",
     "output_type": "stream",
     "text": [
      "galpyWarning: Cannot use symplectic integration because some of the included forces are dissipative (using non-symplectic integrator dopr54_c instead)\n",
      "C:\\Users\\yumna\\miniconda3\\lib\\site-packages\\galpy\\util\\bovy_plot.py:284: RuntimeWarning: More than 20 figures have been opened. Figures created through the pyplot interface (`matplotlib.pyplot.figure`) are retained until explicitly closed and may consume too much memory. (To control this warning, see the rcParam `figure.max_open_warning`).\n",
      "  elif not overplot and not gcf: pyplot.figure()\n",
      "\n"
     ]
    },
    {
     "data": {
      "application/vnd.jupyter.widget-view+json": {
       "model_id": "6813376eff17413e98d4349d3408e00c",
       "version_major": 2,
       "version_minor": 0
      },
      "text/plain": [
       "Canvas(toolbar=Toolbar(toolitems=[('Home', 'Reset original view', 'home', 'home'), ('Back', 'Back to previous …"
      ]
     },
     "metadata": {},
     "output_type": "display_data"
    },
    {
     "name": "stdout",
     "output_type": "stream",
     "text": [
      "galpyWarning: Cannot use symplectic integration because some of the included forces are dissipative (using non-symplectic integrator dopr54_c instead)\n",
      "C:\\Users\\yumna\\miniconda3\\lib\\site-packages\\galpy\\util\\bovy_plot.py:284: RuntimeWarning: More than 20 figures have been opened. Figures created through the pyplot interface (`matplotlib.pyplot.figure`) are retained until explicitly closed and may consume too much memory. (To control this warning, see the rcParam `figure.max_open_warning`).\n",
      "  elif not overplot and not gcf: pyplot.figure()\n",
      "\n"
     ]
    },
    {
     "data": {
      "application/vnd.jupyter.widget-view+json": {
       "model_id": "85c0bcb551a54d65ac2c16132ef8f976",
       "version_major": 2,
       "version_minor": 0
      },
      "text/plain": [
       "Canvas(toolbar=Toolbar(toolitems=[('Home', 'Reset original view', 'home', 'home'), ('Back', 'Back to previous …"
      ]
     },
     "metadata": {},
     "output_type": "display_data"
    },
    {
     "name": "stdout",
     "output_type": "stream",
     "text": [
      "galpyWarning: Cannot use symplectic integration because some of the included forces are dissipative (using non-symplectic integrator dopr54_c instead)\n",
      "C:\\Users\\yumna\\miniconda3\\lib\\site-packages\\galpy\\util\\bovy_plot.py:284: RuntimeWarning: More than 20 figures have been opened. Figures created through the pyplot interface (`matplotlib.pyplot.figure`) are retained until explicitly closed and may consume too much memory. (To control this warning, see the rcParam `figure.max_open_warning`).\n",
      "  elif not overplot and not gcf: pyplot.figure()\n",
      "\n"
     ]
    },
    {
     "data": {
      "application/vnd.jupyter.widget-view+json": {
       "model_id": "d081dce5463345b1a73e103f09cd0b0d",
       "version_major": 2,
       "version_minor": 0
      },
      "text/plain": [
       "Canvas(toolbar=Toolbar(toolitems=[('Home', 'Reset original view', 'home', 'home'), ('Back', 'Back to previous …"
      ]
     },
     "metadata": {},
     "output_type": "display_data"
    },
    {
     "name": "stdout",
     "output_type": "stream",
     "text": [
      "galpyWarning: Cannot use symplectic integration because some of the included forces are dissipative (using non-symplectic integrator dopr54_c instead)\n",
      "C:\\Users\\yumna\\miniconda3\\lib\\site-packages\\galpy\\util\\bovy_plot.py:284: RuntimeWarning: More than 20 figures have been opened. Figures created through the pyplot interface (`matplotlib.pyplot.figure`) are retained until explicitly closed and may consume too much memory. (To control this warning, see the rcParam `figure.max_open_warning`).\n",
      "  elif not overplot and not gcf: pyplot.figure()\n",
      "\n"
     ]
    },
    {
     "data": {
      "application/vnd.jupyter.widget-view+json": {
       "model_id": "be081410b97b4b9d8dc07faa11bc8f3e",
       "version_major": 2,
       "version_minor": 0
      },
      "text/plain": [
       "Canvas(toolbar=Toolbar(toolitems=[('Home', 'Reset original view', 'home', 'home'), ('Back', 'Back to previous …"
      ]
     },
     "metadata": {},
     "output_type": "display_data"
    },
    {
     "name": "stdout",
     "output_type": "stream",
     "text": [
      "galpyWarning: Cannot use symplectic integration because some of the included forces are dissipative (using non-symplectic integrator dopr54_c instead)\n",
      "C:\\Users\\yumna\\miniconda3\\lib\\site-packages\\galpy\\util\\bovy_plot.py:284: RuntimeWarning: More than 20 figures have been opened. Figures created through the pyplot interface (`matplotlib.pyplot.figure`) are retained until explicitly closed and may consume too much memory. (To control this warning, see the rcParam `figure.max_open_warning`).\n",
      "  elif not overplot and not gcf: pyplot.figure()\n",
      "\n"
     ]
    },
    {
     "data": {
      "application/vnd.jupyter.widget-view+json": {
       "model_id": "164e3bc1212e411b8e9ba6bf1fa9ffa4",
       "version_major": 2,
       "version_minor": 0
      },
      "text/plain": [
       "Canvas(toolbar=Toolbar(toolitems=[('Home', 'Reset original view', 'home', 'home'), ('Back', 'Back to previous …"
      ]
     },
     "metadata": {},
     "output_type": "display_data"
    },
    {
     "name": "stdout",
     "output_type": "stream",
     "text": [
      "galpyWarning: Cannot use symplectic integration because some of the included forces are dissipative (using non-symplectic integrator dopr54_c instead)\n",
      "C:\\Users\\yumna\\miniconda3\\lib\\site-packages\\galpy\\util\\bovy_plot.py:284: RuntimeWarning: More than 20 figures have been opened. Figures created through the pyplot interface (`matplotlib.pyplot.figure`) are retained until explicitly closed and may consume too much memory. (To control this warning, see the rcParam `figure.max_open_warning`).\n",
      "  elif not overplot and not gcf: pyplot.figure()\n",
      "\n"
     ]
    },
    {
     "data": {
      "application/vnd.jupyter.widget-view+json": {
       "model_id": "e6eb74d9c51b45f082f3a5ec26dd5b0a",
       "version_major": 2,
       "version_minor": 0
      },
      "text/plain": [
       "Canvas(toolbar=Toolbar(toolitems=[('Home', 'Reset original view', 'home', 'home'), ('Back', 'Back to previous …"
      ]
     },
     "metadata": {},
     "output_type": "display_data"
    }
   ],
   "source": [
    "##### TESTING ######\n",
    "index_list = [1,5,8,10,13,26,27,28,29,30,35,37,38,39]\n",
    "tform_dict = {'BootesI': 6.*units.Gyr, 'Carina': 5.*units.Gyr, 'ComaBerenices': 6.*units.Gyr, 'Draco': 0.*units.Gyr, 'Fornax': 8.*units.Gyr, 'ReticulumII': 2.*units.Gyr, 'Sgr': 4.*units.Gyr, 'Sculptor': 5.*units.Gyr, 'Segue1': 2.*units.Gyr, 'Segue2': 1.5*units.Gyr, 'TucanaIII': -3.*units.Gyr, 'UrsaMajorII': 6.5*units.Gyr, 'UrsaMinor': 3.*units.Gyr, 'Willman1': 2.*units.Gyr}\n",
    "unbound_dict = {'BootesI': 3.5*units.Gyr, 'Carina': 5.*units.Gyr, 'ComaBerenices': 5.*units.Gyr, 'Draco': 1.*units.Gyr, 'Fornax': 8.*units.Gyr, 'ReticulumII': 1.5*units.Gyr, 'Sgr': 1.*units.Gyr, 'Sculptor': 5.*units.Gyr, 'Segue1': 2.*units.Gyr, 'Segue2': 1.5*units.Gyr, 'TucanaIII': -5.5*units.Gyr, 'UrsaMajorII': 7.*units.Gyr, 'UrsaMinor': 3.*units.Gyr, 'Willman1': 0.5*units.Gyr}\n",
    "xlim_dict = {'BootesI': '14,20', 'Carina': '32,35.5', 'ComaBerenices': '30,37', 'Draco': '54,64', 'Fornax': '20,26', 'ReticulumII': '12,18', 'Sgr': '58,62', 'Sculptor': '34,38', 'Segue1': '0,10', 'Segue2': '0,8', 'TucanaIII': '57,59', 'UrsaMajorII': '67.5,69.5', 'UrsaMinor': '3,8', 'Willman1': '14,16'}\n",
    "ylim_dict = {'BootesI': '-38,-36', 'Carina': '-31,-20', 'ComaBerenices': '-4,2', 'Draco': '-58,-46', 'Fornax': '8,18', 'ReticulumII': '-2,8', 'Sgr': '-49,-40', 'Sculptor': '-22,-16', 'Segue1': '-6,1', 'Segue2': '63.5,65.5', 'TucanaIII': '-7,1', 'UrsaMajorII': '-46,-39', 'UrsaMinor': '-20,5', 'Willman1': '32,41'}\n",
    "# Run function to plot tidalstreams\n",
    "for counter, index in enumerate(index_list):\n",
    "    sat = satellite_gal[index]\n",
    "    sat_name = name_satellite_gal[index]\n",
    "    tform = tform_dict[sat_name]\n",
    "    unboundt = unbound_dict[sat_name]\n",
    "    #end_pos_cluster, end_pos_gal,dswp_f, dswp_b = plot_sat_cluster(sat, name, potential, 't', 'r',Msat, size, x,y,z,vx,vy,vz, tform, tsteady)\n",
    "    spdf, spdft, cluster_orbit, cluster_orbitb, spdf_bound, spdft_bound, cluster_orbit_bound, cluster_orbitb_bound\\\n",
    "    =plot_tidalstreams(sat, sat_name, potential,xaxis, yaxis, Msat, size, x,y,z,vx,vy,vz,tform,tsteady, Mcluster,unbound_time = unboundt)"
   ]
  },
  {
   "cell_type": "code",
   "execution_count": null,
   "metadata": {},
   "outputs": [],
   "source": [
    "# x and y limits for each tidal streams plot\n",
    "xlim_dict = {}\n",
    "ylim_dict = {}\n",
    "for index in index_list:\n",
    "    sat_name = name_satellite_gal[index]\n",
    "    xlim = input('Insert x-limit for plot of satellite galaxy: '+sat_name)\n",
    "    ylim = input('Insert y-limit for plot of satellite galaxy: '+sat_name)\n",
    "    xlim_dict[sat_name] = xlim\n",
    "    ylim_dict[sat_name] = ylim\n"
   ]
  },
  {
   "cell_type": "code",
   "execution_count": null,
   "metadata": {
    "scrolled": true
   },
   "outputs": [],
   "source": [
    "print(xlim_dict)\n",
    "print(ylim_dict)\n",
    "print(unbound_dict)\n",
    "print(tform_dict)"
   ]
  },
  {
   "cell_type": "code",
   "execution_count": null,
   "metadata": {},
   "outputs": [],
   "source": [
    "tform_dict = {'BootesI': 6.*units.Gyr, 'Carina': 5.*units.Gyr, 'ComaBerenices': 6.*units.Gyr, 'Draco': 0.*units.Gyr, 'Fornax': 8.*units.Gyr, 'ReticulumII': 2.*units.Gyr, 'Sgr': 4.*units.Gyr, 'Sculptor': 5.*units.Gyr, 'Segue1': 2.*units.Gyr, 'Segue2': 1.5*units.Gyr, 'TucanaIII': -3.*units.Gyr, 'UrsaMajorII': 6.5*units.Gyr, 'UrsaMinor': 3.*units.Gyr, 'Willman1': 2.*units.Gyr}\n",
    "unbound_dict = {'BootesI': 3.5*units.Gyr, 'Carina': 5.*units.Gyr, 'ComaBerenices': 5.*units.Gyr, 'Draco': 1.*units.Gyr, 'Fornax': 8.*units.Gyr, 'ReticulumII': 1.5*units.Gyr, 'Sgr': 1.*units.Gyr, 'Sculptor': 5.*units.Gyr, 'Segue1': 2.*units.Gyr, 'Segue2': 1.5*units.Gyr, 'TucanaIII': -5.5*units.Gyr, 'UrsaMajorII': 7.*units.Gyr, 'UrsaMinor': 3.*units.Gyr, 'Willman1': 0.5*units.Gyr}\n",
    "xlim_dict = {'BootesI': '14,20', 'Carina': '32,35.5', 'ComaBerenices': '30,37', 'Draco': '54,64', 'Fornax': '20,26', 'ReticulumII': '12,18', 'Sgr': '58,62', 'Sculptor': '34,38', 'Segue1': '0,10', 'Segue2': '0,8', 'TucanaIII': '57,59', 'UrsaMajorII': '67.5,69.5', 'UrsaMinor': '3,8', 'Willman1': '14,16'}\n",
    "ylim_dict = {'BootesI': '-38,-36', 'Carina': '-31,-20', 'ComaBerenices': '-4,2', 'Draco': '-58,-46', 'Fornax': '8,18', 'ReticulumII': '-2,8', 'Sgr': '-49,-40', 'Sculptor': '-22,-16', 'Segue1': '-6,1', 'Segue2': '63.5,65.5', 'TucanaIII': '-7,1', 'UrsaMajorII': '-46,-39', 'UrsaMinor': '-20,5', 'Willman1': '32,41'}"
   ]
  },
  {
   "cell_type": "code",
   "execution_count": null,
   "metadata": {},
   "outputs": [],
   "source": [
    "# Zoom into plots of tidal streams - no colormaps yet \n",
    "# Run function to plot tidalstreams\n",
    "for counter, index in enumerate(index_list):\n",
    "    sat = satellite_gal[index]\n",
    "    sat_name = name_satellite_gal[index]\n",
    "    xlims = xlim_dict[sat_name].split(',')\n",
    "    xlim = (float(xlims[0]), float(xlims[1]))\n",
    "    ylims = ylim_dict[sat_name].split(',')\n",
    "    ylim = (float(ylims[0]), float(ylims[1]))\n",
    "    orbit = stream_data[2][counter]\n",
    "    orbitb = stream_data[3][counter]\n",
    "    spdf = stream_data[0][counter]\n",
    "    spdft = stream_data[1][counter]\n",
    "    zoom(orbit, orbitb, spdf, spdft, xlim, ylim, sat_name)\n",
    "    "
   ]
  },
  {
   "cell_type": "code",
   "execution_count": null,
   "metadata": {},
   "outputs": [],
   "source": [
    "# Plot colormaps using xlim and ylim for each satellite\n",
    "# Run function to plot tidalstreams\n",
    "for counter, index in enumerate(index_list):\n",
    "    sat = satellite_gal[index]\n",
    "    sat_name = name_satellite_gal[index]\n",
    "    xlims = xlim_dict[sat_name].split(',')\n",
    "    xlim = (float(xlims[0]), float(xlims[1]))\n",
    "    ylims = ylim_dict[sat_name].split(',')\n",
    "    ylim = (float(ylims[0]), float(ylims[1]))\n",
    "    orbit = stream_data[2][counter]\n",
    "    orbitb = stream_data[3][counter]\n",
    "    spdf = stream_data[0][counter]\n",
    "    spdft = stream_data[1][counter]\n",
    "    plot_colormap(orbit, orbitb, spdf, spdft, xlim, ylim, sat_name)\n",
    "    "
   ]
  },
  {
   "cell_type": "code",
   "execution_count": null,
   "metadata": {},
   "outputs": [],
   "source": [
    "# Use test_cocoon to snip out those stars stripped after star cluster became unbound \n",
    "for counter, index in enumerate(index_list):\n",
    "    sat = satellite_gal[index]\n",
    "    sat_name = name_satellite_gal[index]\n",
    "    tform = tform_dict[sat_name]\n",
    "    tstart = tform - 5.*units.Gyr\n",
    "    unboundt = unbound_dict[sat_name]\n",
    "    end_time = unboundt\n",
    "    xlims = xlim_dict[sat_name].split(',')\n",
    "    xlim = (float(xlims[0]), float(xlims[1]))\n",
    "    ylims = ylim_dict[sat_name].split(',')\n",
    "    ylim = (float(ylims[0]), float(ylims[1]))\n",
    "    orbit = stream_data[2][counter]\n",
    "    orbitb = stream_data[3][counter]\n",
    "    spdf = stream_data[0][counter]\n",
    "    spdft = stream_data[1][counter]\n",
    "    test_cocoon(orbit, orbitb, spdf, spdft, xlim, ylim, sat_name, end_time, tstart)\n",
    "    \n",
    "    "
   ]
  },
  {
   "cell_type": "code",
   "execution_count": null,
   "metadata": {},
   "outputs": [],
   "source": []
  }
 ],
 "metadata": {
  "kernelspec": {
   "display_name": "Python 3",
   "language": "python",
   "name": "python3"
  },
  "language_info": {
   "codemirror_mode": {
    "name": "ipython",
    "version": 3
   },
   "file_extension": ".py",
   "mimetype": "text/x-python",
   "name": "python",
   "nbconvert_exporter": "python",
   "pygments_lexer": "ipython3",
   "version": "3.7.6"
  }
 },
 "nbformat": 4,
 "nbformat_minor": 4
}
